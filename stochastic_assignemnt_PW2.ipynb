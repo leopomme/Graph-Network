{
 "cells": [
  {
   "cell_type": "code",
   "execution_count": 1,
   "metadata": {},
   "outputs": [],
   "source": [
    "# Modules de base\n",
    "import numpy as np\n",
    "import matplotlib.pyplot as plt\n",
    "import pandas as pd\n",
    "%matplotlib inline\n",
    "from pyomo.environ import *\n",
    "\n",
    "# Module relatif à Gurobi\n",
    "from gurobipy import *"
   ]
  },
  {
   "cell_type": "markdown",
   "metadata": {},
   "source": [
    "# First Basic model"
   ]
  },
  {
   "cell_type": "code",
   "execution_count": 2,
   "metadata": {},
   "outputs": [
    {
     "name": "stdout",
     "output_type": "stream",
     "text": [
      "Set parameter Username\n",
      "Academic license - for non-commercial use only - expires 2023-11-30\n"
     ]
    }
   ],
   "source": [
    "# -- Initialisation du modèle --\n",
    "# m : Model\n",
    "m=Model(\"assign_SR\")"
   ]
  },
  {
   "cell_type": "code",
   "execution_count": 3,
   "metadata": {},
   "outputs": [
    {
     "name": "stdout",
     "output_type": "stream",
     "text": [
      "[[nan 18. nan nan nan nan 10. nan nan nan nan nan 54.]\n",
      " [18. nan 17. nan 70. nan 20. 23. nan nan nan 30. nan]\n",
      " [nan 17. nan 20. nan nan nan nan nan 65. nan nan nan]\n",
      " [nan nan 20. nan 10. 20. nan nan nan nan nan nan nan]\n",
      " [nan 70. nan 10. nan nan nan 50. nan 10. 15. nan nan]\n",
      " [nan nan nan 20. nan nan nan nan nan nan 21. nan nan]\n",
      " [10. 20. nan nan nan nan nan nan nan nan nan 20. nan]\n",
      " [nan 23. nan nan 50. nan nan nan 20. nan nan nan  7.]\n",
      " [nan nan nan nan nan nan nan 20. nan 11. nan nan nan]\n",
      " [nan nan 65. nan 10. nan nan nan 11. nan 10. nan nan]\n",
      " [nan nan nan nan 15. 21. nan nan nan 10. nan nan nan]\n",
      " [nan 30. nan nan nan nan 20. nan nan nan nan nan 25.]\n",
      " [54. nan nan nan nan nan nan  7. nan nan nan 25. nan]]\n",
      "(13, 13)\n"
     ]
    }
   ],
   "source": [
    "distances = pd.read_csv(\"opsto-ass1-dij2.csv\", header=None)\n",
    "Dij = 10*distances.to_numpy()\n",
    "print(Dij)\n",
    "print(Dij.shape)"
   ]
  },
  {
   "cell_type": "code",
   "execution_count": 4,
   "metadata": {},
   "outputs": [],
   "source": [
    "# Generating the Vij matrix:\n",
    "import math\n",
    "\n",
    "for i in range(Dij.shape[0]):\n",
    "    for j in range(Dij.shape[1]):\n",
    "        if i == j:\n",
    "            Dij[i,j]= 0\n",
    "        if math.isnan(Dij[i,j]):\n",
    "            Dij[i,j]= 0"
   ]
  },
  {
   "cell_type": "code",
   "execution_count": 5,
   "metadata": {},
   "outputs": [],
   "source": [
    "K = np.arange(3)  #subnetworks\n",
    "V = np.arange(13) # nodes\n",
    "c = 25 #price of backbone\n",
    "card = 2 #cardinality if the system"
   ]
  },
  {
   "cell_type": "code",
   "execution_count": 6,
   "metadata": {},
   "outputs": [
    {
     "name": "stdout",
     "output_type": "stream",
     "text": [
      "(13, 3)\n"
     ]
    }
   ],
   "source": [
    "x = m.addMVar(shape = (13,3), name='x', vtype=GRB.BINARY)\n",
    "print(x.shape)\n",
    "w = m.addMVar(shape = (13,13,3,3), name='w',lb=0, ub=1, vtype=GRB.CONTINUOUS,)"
   ]
  },
  {
   "cell_type": "code",
   "execution_count": 7,
   "metadata": {},
   "outputs": [],
   "source": [
    "# Adding some constraints\n",
    "for i in V:\n",
    "    m.addConstr(quicksum(x[i,:])==1)\n",
    "\n",
    "for h in K:\n",
    "    m.addConstr(quicksum(x[:,h])>= card)"
   ]
  },
  {
   "cell_type": "code",
   "execution_count": 8,
   "metadata": {},
   "outputs": [],
   "source": [
    "for i in V:\n",
    "    for j in V:\n",
    "        for h in K:\n",
    "            for k in K:\n",
    "                if h != k: \n",
    "                    m.addConstr(w[i,j,h,k]>=(x[i,h]+x[j,k]-1))"
   ]
  },
  {
   "cell_type": "code",
   "execution_count": 9,
   "metadata": {},
   "outputs": [
    {
     "name": "stdout",
     "output_type": "stream",
     "text": [
      "the minimum cost is:  2325.0\n"
     ]
    },
    {
     "name": "stderr",
     "output_type": "stream",
     "text": [
      "/var/folders/t4/9fy1pq9d6tjchq8lc65_mnn80000gn/T/ipykernel_41020/368024877.py:3: DeprecationWarning: Calling np.sum(generator) is deprecated, and in the future will give a different result. Use np.sum(np.fromiter(generator)) or the python sum builtin instead.\n",
      "  objective = 0.5* np.sum(c*Dij[i,j]*w[i,j,h,k] for h in K for k in K if h!=k for i in V for j in V if Dij[i,j]>0)\n"
     ]
    }
   ],
   "source": [
    "# minimize cost\n",
    "\n",
    "objective = 0.5* np.sum(c*Dij[i,j]*w[i,j,h,k] for h in K for k in K if h!=k for i in V for j in V if Dij[i,j]>0)\n",
    "\n",
    "m.setObjective(objective, GRB.MINIMIZE)\n",
    "\n",
    "m.params.outputflag = 0\n",
    "m.update()\n",
    "m.optimize()\n",
    "\n",
    "if m.status == GRB.INF_OR_UNBD:\n",
    "    m.setParam(GRB.Param.Presolve, 0)\n",
    "    m.optimize()\n",
    "\n",
    "if m.status == GRB.INFEASIBLE:\n",
    "    pass\n",
    "elif m.status == GRB.UNBOUNDED:\n",
    "    pass\n",
    "else:\n",
    "    print('the minimum cost is: ',m.ObjVal)"
   ]
  },
  {
   "cell_type": "code",
   "execution_count": 10,
   "metadata": {},
   "outputs": [
    {
     "name": "stdout",
     "output_type": "stream",
     "text": [
      "subnetwork  1 :\n",
      "3\n",
      "4\n",
      "10\n",
      "subnetwork  2 :\n",
      "6\n",
      "11\n",
      "subnetwork  3 :\n",
      "1\n",
      "2\n",
      "5\n",
      "7\n",
      "8\n",
      "9\n",
      "12\n",
      "13\n"
     ]
    }
   ],
   "source": [
    "for h in K:\n",
    "    print('subnetwork ',h+1,':')\n",
    "    for i in V:\n",
    "        if x.x[i,h]==1:\n",
    "            print(i+1)\n"
   ]
  }
 ],
 "metadata": {
  "kernelspec": {
   "display_name": "Python 3.8.5 64-bit",
   "language": "python",
   "name": "python3"
  },
  "language_info": {
   "codemirror_mode": {
    "name": "ipython",
    "version": 3
   },
   "file_extension": ".py",
   "mimetype": "text/x-python",
   "name": "python",
   "nbconvert_exporter": "python",
   "pygments_lexer": "ipython3",
   "version": "3.8.5"
  },
  "orig_nbformat": 4,
  "vscode": {
   "interpreter": {
    "hash": "aee8b7b246df8f9039afb4144a1f6fd8d2ca17a180786b69acc140d282b71a49"
   }
  }
 },
 "nbformat": 4,
 "nbformat_minor": 2
}
